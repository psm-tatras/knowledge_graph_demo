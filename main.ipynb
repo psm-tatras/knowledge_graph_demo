{
 "cells": [
  {
   "cell_type": "code",
   "execution_count": 23,
   "metadata": {},
   "outputs": [],
   "source": [
    "import importlib\n",
    "from pyvis.network import Network"
   ]
  },
  {
   "cell_type": "code",
   "execution_count": 83,
   "metadata": {},
   "outputs": [],
   "source": [
    "import parse_utils\n",
    "importlib.reload(parse_utils)\n",
    "from parse_utils import *"
   ]
  },
  {
   "cell_type": "code",
   "execution_count": 84,
   "metadata": {},
   "outputs": [],
   "source": [
    "f = open(\"data/sentence.txt\")\n",
    "sentence = f.readlines()[0]"
   ]
  },
  {
   "cell_type": "code",
   "execution_count": 85,
   "metadata": {},
   "outputs": [],
   "source": [
    "doc = nlp(sentence)"
   ]
  },
  {
   "cell_type": "code",
   "execution_count": 86,
   "metadata": {},
   "outputs": [
    {
     "name": "stdout",
     "output_type": "stream",
     "text": [
      "retail digital payments\n",
      "Indian Payments Handbook\n",
      "steady pace\n",
      "UPI transactions\n",
      "PwC report\n",
      "day\n",
      "percent\n",
      "country\n"
     ]
    }
   ],
   "source": [
    "keyphrases = get_rule_based_keyphrases(doc)\n",
    "for kp in keyphrases:\n",
    "    print(kp)"
   ]
  },
  {
   "cell_type": "code",
   "execution_count": 87,
   "metadata": {},
   "outputs": [
    {
     "name": "stdout",
     "output_type": "stream",
     "text": [
      "Growing\n",
      "reach\n",
      "accounting\n",
      "said ---- ROOT\n",
      "titled\n",
      "titled\n"
     ]
    }
   ],
   "source": [
    "all_verbs = []\n",
    "root_verb = \"\"\n",
    "dep_struct = dep_tree_structure(doc)\n",
    "for item in dep_struct:\n",
    "    pos = item[1]\n",
    "    word = item[-1]\n",
    "    if pos == \"VERB\":\n",
    "        all_verbs.append(word)\n",
    "        if item[2] == \"ROOT\":\n",
    "            root_verb = word\n",
    "for v in all_verbs:\n",
    "    if v == root_verb:\n",
    "        print(v,\"---- ROOT\")\n",
    "    else:\n",
    "        print(v)"
   ]
  },
  {
   "cell_type": "code",
   "execution_count": 88,
   "metadata": {},
   "outputs": [
    {
     "name": "stdout",
     "output_type": "stream",
     "text": [
      "Main dependency graph ready\n",
      "main_graph.html\n"
     ]
    }
   ],
   "source": [
    "main_graph = make_main_graph(dep_struct)\n",
    "print(\"Main dependency graph ready\")\n",
    "nt = Network(directed=True)\n",
    "nt.from_nx(main_graph)\n",
    "nt.show(\"main_graph.html\",notebook=False )"
   ]
  },
  {
   "cell_type": "code",
   "execution_count": 78,
   "metadata": {},
   "outputs": [
    {
     "name": "stdout",
     "output_type": "stream",
     "text": [
      "According stood\n"
     ]
    }
   ],
   "source": [
    "for vrb in all_verbs:\n",
    "    if vrb != root_verb:\n",
    "        path = find_path_between_verbs(vrb,root_verb,main_graph)\n",
    "        path_string = [path[0]]\n",
    "        related_phrases = []\n",
    "        for p in path[1:]:\n",
    "            for kp in keyphrases:\n",
    "                if p in kp:\n",
    "                    path_string.append(kp)\n",
    "        path_string.append(path[-1])\n",
    "        path_string = \" \".join(path_string)\n",
    "        print(path_string)"
   ]
  },
  {
   "cell_type": "code",
   "execution_count": 79,
   "metadata": {},
   "outputs": [
    {
     "name": "stdout",
     "output_type": "stream",
     "text": [
      "report REPLACE BY May annual report\n",
      "data REPLACE BY UPI transaction data\n",
      "UPI REPLACE BY aggregate UPI\n",
      "Corp. REPLACE BY National Payments Corp.\n",
      "Bank REPLACE BY Reserve Bank\n",
      "aggregate REPLACE BY aggregate UPI\n",
      "India REPLACE BY India\n",
      "RBI REPLACE BY RBI\n",
      "NPCI REPLACE BY NPCI\n",
      "transactions REPLACE BY transactions\n",
      "FY23 REPLACE BY FY23\n"
     ]
    }
   ],
   "source": [
    "# kp = \"EU foreign policy chief\"\n",
    "relabel = {}\n",
    "drop_nodes = []\n",
    "for kp in keyphrases:\n",
    "    merge = []\n",
    "    all_words = kp.split()\n",
    "    for wd in all_words:\n",
    "        neighbours = main_graph.neighbors(wd)\n",
    "        flag = True\n",
    "        for n in neighbours:\n",
    "            if n not in all_words:\n",
    "                flag = False\n",
    "        if flag:\n",
    "            merge.append(wd)\n",
    "    # print(merge)\n",
    "    representative = list(set(all_words).difference(set(merge)))\n",
    "    drop_nodes.extend(merge)\n",
    "    # print(representative)\n",
    "    for r in representative:\n",
    "        relabel.update({r:kp})\n",
    "for k in relabel.keys():\n",
    "    print(k,\"REPLACE BY\",relabel[k])"
   ]
  },
  {
   "cell_type": "code",
   "execution_count": 80,
   "metadata": {},
   "outputs": [],
   "source": [
    "all_nodes = list(main_graph.nodes)\n",
    "for a_node in all_nodes:\n",
    "    if a_node in stopwords:\n",
    "        in_deg = main_graph.in_degree(a_node)\n",
    "        out_deg = main_graph.out_degree(a_node)\n",
    "        if in_deg == 0:\n",
    "            drop_nodes.append(a_node)           "
   ]
  },
  {
   "cell_type": "code",
   "execution_count": 81,
   "metadata": {},
   "outputs": [
    {
     "name": "stdout",
     "output_type": "stream",
     "text": [
      "['May', 'annual', 'transaction', 'National', 'Payments', 'Reserve', 'the', 'and']\n"
     ]
    }
   ],
   "source": [
    "print(drop_nodes)"
   ]
  },
  {
   "cell_type": "code",
   "execution_count": 82,
   "metadata": {},
   "outputs": [
    {
     "name": "stdout",
     "output_type": "stream",
     "text": [
      "merged_graph.html\n"
     ]
    }
   ],
   "source": [
    "temp_graph = main_graph.copy()\n",
    "temp_graph.remove_nodes_from(drop_nodes)\n",
    "merged_graph = nx.relabel_nodes(temp_graph,relabel)\n",
    "nt = Network(directed=True)\n",
    "nt.from_nx(merged_graph)\n",
    "nt.show(\"merged_graph.html\",notebook=False )"
   ]
  }
 ],
 "metadata": {
  "kernelspec": {
   "display_name": "conda_psm_0",
   "language": "python",
   "name": "python3"
  },
  "language_info": {
   "codemirror_mode": {
    "name": "ipython",
    "version": 3
   },
   "file_extension": ".py",
   "mimetype": "text/x-python",
   "name": "python",
   "nbconvert_exporter": "python",
   "pygments_lexer": "ipython3",
   "version": "3.11.3"
  },
  "orig_nbformat": 4
 },
 "nbformat": 4,
 "nbformat_minor": 2
}
