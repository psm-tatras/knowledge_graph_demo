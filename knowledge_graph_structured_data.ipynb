{
 "cells": [
  {
   "cell_type": "code",
   "execution_count": 72,
   "metadata": {},
   "outputs": [],
   "source": [
    "import networkx as nx\n",
    "import pandas as pd\n",
    "from pyvis.network import Network"
   ]
  },
  {
   "cell_type": "code",
   "execution_count": 73,
   "metadata": {},
   "outputs": [],
   "source": [
    "data_file = \"data/calci_bollywood_movies.csv\""
   ]
  },
  {
   "cell_type": "code",
   "execution_count": 74,
   "metadata": {},
   "outputs": [
    {
     "name": "stdout",
     "output_type": "stream",
     "text": [
      "Index(['imdbId', 'title', 'releaseYear', 'releaseDate', 'genre', 'writers',\n",
      "       'actors', 'directors', 'sequel', 'hitFlop'],\n",
      "      dtype='object')\n"
     ]
    }
   ],
   "source": [
    "df = pd.read_csv(data_file,delimiter=\"\\t\")\n",
    "print(df.columns)"
   ]
  },
  {
   "attachments": {},
   "cell_type": "markdown",
   "metadata": {},
   "source": [
    "data is very big for now, let's sample only 500 records"
   ]
  },
  {
   "cell_type": "code",
   "execution_count": 75,
   "metadata": {},
   "outputs": [],
   "source": [
    "df = df.sample(n=50,replace=False)"
   ]
  },
  {
   "attachments": {},
   "cell_type": "markdown",
   "metadata": {},
   "source": [
    "Let's take only movie tile and writers  "
   ]
  },
  {
   "cell_type": "code",
   "execution_count": 77,
   "metadata": {},
   "outputs": [
    {
     "name": "stdout",
     "output_type": "stream",
     "text": [
      "aamdani atthanni kharcha rupaiya ----dialogue BY------anwar khan\n",
      "aamdani atthanni kharcha rupaiya ----story BY------v. shekhar\n",
      "udaan ----vikramaditya motwane BY------vikramaditya motwane\n",
      "udaan ----anurag kashyap BY------anurag kashyap\n",
      "udaan ----rohan's poems and stories BY------satyanshu singh rohan's poems and stories\n",
      "udaan ----rohan's poems and stories BY------devanshu singh rohan's poems and stories\n",
      "kai po che! ----novel BY------chetan bhagat\n",
      "kai po che! ----adaptation BY------abhishek kapoor\n",
      "kai po che! ----adaptation BY------supratik sen\n",
      "kai po che! ----adaptation BY------chetan bhagat\n",
      "kai po che! ----adaptation BY------pubali chaudhuri\n",
      "chal chala chal ----lyrics BY------anand raj anand\n",
      "chal chala chal ----lyrics BY------sunil jha\n",
      "chal chala chal ----dialogue BY------manisha korde\n",
      "chal chala chal ----lyrics BY------vaibhav modi\n",
      "my friend ganesha 2 ----story BY------rajiv s. ruia\n",
      "my friend ganesha 2 ----s. sachinde BY------s. sachinder\n",
      "badhaai ho badhaai ----kavita choudhar BY------kavita choudhary\n",
      "ishq hai tumse ----dialogue BY------raman bharadwaj\n",
      "ishq hai tumse ----screenplay BY------g. krishna\n",
      "ishq hai tumse ----concept BY------sana yadi reddy\n",
      "chhodo kal ki baatein ----dialogue BY------pramod joshi\n",
      "chhodo kal ki baatein ----screenplay BY------pramod joshi\n",
      "chhodo kal ki baatein ----dialogue BY------raz kazi\n",
      "chhodo kal ki baatein ----screenplay BY------raz kazi\n",
      "kyun! ho gaya na... ----dialogues BY------tushar hiranandani\n",
      "kyun! ho gaya na... ----screenplay BY------tushar hiranandani\n",
      "kyun! ho gaya na... ----samir karnik BY------samir karnik\n",
      "kyun! ho gaya na... ----dialogues BY------vivek oberoi\n",
      "kyun! ho gaya na... ----screenplay BY------vivek oberoi\n",
      "kyun! ho gaya na... ----dialogues BY------rajesh soni\n",
      "kyun! ho gaya na... ----screenplay BY------rajesh soni\n",
      "kyun! ho gaya na... ----dialogues BY------milap zaveri\n",
      "kyun! ho gaya na... ----screenplay BY------milap zaveri\n",
      "bin bulaye baraati ----screenplay BY------praful parekh\n",
      "bin bulaye baraati ----story BY------praful parekh\n",
      "bin bulaye baraati ----screenplay BY------salim sheikh\n",
      "bin bulaye baraati ----story BY------salim sheikh\n",
      "bin bulaye baraati ----dialogue BY------dilip shukla\n",
      "zubeidaa ----original story and screenplay BY------khalid mohamed\n",
      "zubeidaa ----dialogue BY------javed siddiqui\n",
      "love u crazy girl ----bhabhani prasa BY------bhabhani prasad\n",
      "family: ties of blood ----screenwriter BY------rajat arora\n",
      "family: ties of blood ----dialogue BY------tigmanshu dhulia\n",
      "family: ties of blood ----screenplay BY------shridhar raghavan\n",
      "family: ties of blood ----script & story BY------ashok rawat\n",
      "family: ties of blood ----dialogue BY------rajkumar santoshi\n",
      "family: ties of blood ----screenplay BY------rajkumar santoshi\n",
      "family: ties of blood ----story BY------shaktimaan talwar\n",
      "mere brother ki dulhan ----ali abbas zafa BY------ali abbas zafar\n",
      "agyaat: the unknown ----puneet gandhi BY------puneet gandhi\n",
      "agyaat: the unknown ----nilesh girkar BY------nilesh girkar\n",
      "agyaat: the unknown ----lyrics BY------sarim momin\n",
      "agyaat: the unknown ----lyrics BY------prashant pandey\n",
      "agyaat: the unknown ----lyrics BY------sandip singh\n",
      "sadiyaan: boundaries divide... love unites ----re-written by BY------abhay kanwar\n",
      "sadiyaan: boundaries divide... love unites ----screenplay BY------raj kanwar\n",
      "sadiyaan: boundaries divide... love unites ----story BY------raj kanwar\n",
      "sadiyaan: boundaries divide... love unites ----lyrics BY------sameer\n",
      "sadiyaan: boundaries divide... love unites ----dialogues BY------javed siddiqui\n",
      "kaante ----sanjay gupta BY------sanjay gupta\n",
      "kaante ----vinay BY------vinay\n",
      "kaante ----yash BY------yash\n",
      "kaante ----dialogue BY------milap zaveri\n",
      "himmatwala ----original story BY------k. raghavendra rao\n",
      "himmatwala ----story BY------sajid khan\n",
      "himmatwala ----screenplay BY------sajid khan\n",
      "himmatwala ----screenplay BY------farhad\n",
      "himmatwala ----screenplay BY------sajid\n",
      "kal: yesterday and tomorrow ----ruchi narai BY------ruchi narain\n",
      "kabhi alvida naa kehna ----story BY------karan johar\n",
      "kabhi alvida naa kehna ----screenplay BY------shibani bathija\n",
      "kabhi alvida naa kehna ----screenplay BY------karan johar\n",
      "kabhi alvida naa kehna ----dialogue BY------niranjan iyengar\n",
      "rudraksh ----screenplay BY------mani shankar\n",
      "rudraksh ----story BY------mani shankar\n",
      "gangoobai ----priya krishnaswamy BY------priya krishnaswamy\n",
      "gangoobai ----additional screenplay writer BY------rayomand j. patell\n",
      "gangoobai ----dialogue BY------abhay tiwari\n",
      "aakhri inteqam ----rajesh baksh BY------rajesh bakshi\n",
      "hattrick ----story BY------rajat arora\n",
      "sons of ram ----story BY------kushal ruia\n",
      "sons of ram ----contributing writer BY------vivek kumar\n",
      "sons of ram ----comic book BY------anant pai\n",
      "sons of ram ----additional dialogue BY------divya chandel\n",
      "sons of ram ----additional dialogue BY------arnab kanti mishra\n",
      "ra.one ----david benullo BY------david benullo\n",
      "ra.one ----dialogue BY------kanika dhillon\n",
      "ra.one ----screenplay BY------kanika dhillon\n",
      "ra.one ----dialogue BY------niranjan iyengar\n",
      "ra.one ----screenplay BY------shah rukh khan\n",
      "ra.one ----screenplay BY------mushtaq sheikh\n",
      "ra.one ----story BY------anubhav sinha\n",
      "victory ----dialogue script BY------darab farooqui\n",
      "victory ----screenplay BY------kannan iyer\n",
      "victory ----additional dialogue BY------anupam maanav\n",
      "victory ----story BY------ajit pal mangat\n",
      "parwana ----screenplay BY------rajeev kaul\n",
      "parwana ----story BY------rajeev kaul\n",
      "parwana ----dialogue BY------tanveer khan\n",
      "parwana ----screenplay BY------praful parekh\n",
      "parwana ----story BY------praful parekh\n",
      "gumnam qatil ----harinam sing BY------harinam singh\n",
      "jodi breakers ----ashwini chaudhary BY------ashwini chaudhary\n",
      "jodi breakers ----sanyukta shaikh chawl BY------sanyukta shaikh chawla\n",
      "kahaani ----screenplay BY------sujoy ghosh\n",
      "kahaani ----story BY------sujoy ghosh\n",
      "kahaani ----story BY------advaita kala\n",
      "kahaani ----additional screenplay BY------suresh nair\n",
      "kahaani ----dialogue BY------ritesh shah\n",
      "kahaani ----additional screenplay BY------nikhil vyas\n",
      "angaar: the fire ----screenplay BY------sujoy ghosh\n",
      "angaar: the fire ----story BY------sujoy ghosh\n",
      "angaar: the fire ----story BY------advaita kala\n",
      "angaar: the fire ----additional screenplay BY------suresh nair\n",
      "angaar: the fire ----dialogue BY------ritesh shah\n",
      "angaar: the fire ----additional screenplay BY------nikhil vyas\n",
      "blackmail ----story BY------robin bhatt\n",
      "blackmail ----dialogue BY------javed siddiqui\n",
      "taj mahal: a monument of love ----story BY------robin bhatt\n",
      "taj mahal: a monument of love ----dialogue BY------javed siddiqui\n",
      "prince ----story BY------shiraz ahmed\n",
      "prince ----dialogue BY------mayur puri\n",
      "prince ----lyrics BY------sameer\n",
      "big brother ----guddu dhano BY------guddu dhanoa\n",
      "madras cafe ----story BY------shubhendu bhattacharya\n",
      "madras cafe ----dialogue BY------juhi chaturvedi\n",
      "madras cafe ----story BY------somnath dey\n",
      "madras cafe ----additional screenplay BY------dusan tolmac\n",
      "madras cafe ----script consultant BY------dusan tolmac\n",
      "gayab ----story BY------shubhendu bhattacharya\n",
      "gayab ----dialogue BY------juhi chaturvedi\n",
      "gayab ----story BY------somnath dey\n",
      "gayab ----additional screenplay BY------dusan tolmac\n",
      "gayab ----script consultant BY------dusan tolmac\n",
      "gollu aur pappu ----story BY------shubhendu bhattacharya\n",
      "gollu aur pappu ----dialogue BY------juhi chaturvedi\n",
      "gollu aur pappu ----story BY------somnath dey\n",
      "gollu aur pappu ----additional screenplay BY------dusan tolmac\n",
      "gollu aur pappu ----script consultant BY------dusan tolmac\n",
      "aarakshan ----prakash jha BY------prakash jha\n",
      "aarakshan ----anjum rajabal BY------anjum rajabali\n",
      "yeh hai pyar ka mausam ----m.l. bhaska BY------m.l. bhaskar\n",
      "striker ----story BY------sunita rajwar\n",
      "striker ----story BY------iqbal merchant\n",
      "striker ----screenplay BY------chandan arora\n",
      "striker ----screenplay BY------sunita rajwar\n",
      "striker ----dialogues BY------sagar kapoor\n",
      "striker ----dialogues BY------vijay maurya\n",
      "striker ----dialogues BY------pankaj saraswat\n",
      "striker ----lyrics BY------nitin raikwar\n",
      "striker ----lyrics BY------jeetendra joshi\n",
      "striker ----lyrics BY------prashant ingole\n",
      "do knot disturb ----screenplay BY------yunus sajawal\n",
      "risk ----screenplay BY------yunus sajawal\n",
      "albela ----screenplay BY------honey irani\n",
      "albela ----story BY------honey irani\n",
      "albela ----dialogue BY------javed siddiqui\n",
      "ajab prem ki ghazab kahani ----story BY------k. rajeshwar\n",
      "ajab prem ki ghazab kahani ----screenplay BY------rajkumar santoshi\n",
      "ajab prem ki ghazab kahani ----dialogues BY------r.d. tailang\n",
      "ajab prem ki ghazab kahani ----screenplay BY------r.d. tailang\n",
      "maseeha ----screenplay BY------pradeep ghatak\n",
      "maseeha ----story BY------pradeep ghatak\n",
      "maseeha ----dialogue BY------anwar khan\n",
      "maseeha ----screenplay BY------anwar khan\n",
      "rocky ----dialogue BY------janak\n",
      "rocky ----screenplay BY------suresh krishna\n",
      "rocky ----dialogue BY------hriday lani\n",
      "rocky ----lyrics BY------sameer\n",
      "kagaar: life on the edge ----sujit se BY------sujit sen\n",
      "kalyug ----dialogue BY------jay dixit\n",
      "kalyug ----screenplay BY------anand sivakumaran\n",
      "kalyug ----story BY------mohit suri\n"
     ]
    }
   ],
   "source": [
    "movie_writers = []\n",
    "for index in df.index:\n",
    "    title = df[\"title\"][index].lower()\n",
    "    all_writers = df[\"writers\"][index]\n",
    "    if isinstance(all_writers,str):\n",
    "        writers = all_writers.split(\"|\")\n",
    "    for s in writers:\n",
    "        if isinstance(s,str):\n",
    "            role = s[s.find(\"(\")+1:s.find(\")\")].lower().strip()\n",
    "            name = s.replace(role,\"\").replace(\"(\",\"\").replace(\")\",\"\").lower().strip()\n",
    "            print(\"%s ----%s BY------%s\"%(title,role,name))\n",
    "            movie_writers.append([title,name,role])"
   ]
  },
  {
   "attachments": {},
   "cell_type": "markdown",
   "metadata": {},
   "source": [
    "Now make a graph with writers and titles where the relation is the role"
   ]
  },
  {
   "cell_type": "code",
   "execution_count": 78,
   "metadata": {},
   "outputs": [],
   "source": [
    "movie_graph = Network()\n",
    "for item in movie_writers:\n",
    "    t = item[0]\n",
    "    a = item[1]\n",
    "    r = item[2]\n",
    "    attrs = {t:{\"type\":\"title\"},a:{\"type\":\"writer\"}}\n",
    "    movie_graph.add_node(t,color=\"red\",label=t)\n",
    "    movie_graph.add_node(a,color=\"blue\",label=a)\n",
    "    movie_graph.add_edge(t,a,label=r)\n",
    "    # nx.set_node_attributes(movie_graph,attrs)"
   ]
  },
  {
   "attachments": {},
   "cell_type": "markdown",
   "metadata": {},
   "source": [
    "Render the graph, see the relations"
   ]
  },
  {
   "cell_type": "code",
   "execution_count": 79,
   "metadata": {},
   "outputs": [
    {
     "name": "stdout",
     "output_type": "stream",
     "text": [
      "data/movie_2node_graph.html\n"
     ]
    }
   ],
   "source": [
    "# nt = Network(directed=False)\n",
    "# nt.from_nx(movie_graph)\n",
    "movie_graph.show(\"data/movie_2node_graph.html\",notebook=False )"
   ]
  },
  {
   "attachments": {},
   "cell_type": "markdown",
   "metadata": {},
   "source": [
    "Now let's include actors as well"
   ]
  },
  {
   "cell_type": "code",
   "execution_count": 80,
   "metadata": {},
   "outputs": [
    {
     "name": "stdout",
     "output_type": "stream",
     "text": [
      "aamdani atthanni kharcha rupaiya ----dialogue BY------anwar khan\n",
      "aamdani atthanni kharcha rupaiya ----story BY------v. shekhar\n",
      "udaan ----vikramaditya motwane BY------vikramaditya motwane\n",
      "udaan ----anurag kashyap BY------anurag kashyap\n",
      "udaan ----rohan's poems and stories BY------satyanshu singh rohan's poems and stories\n",
      "udaan ----rohan's poems and stories BY------devanshu singh rohan's poems and stories\n",
      "kai po che! ----novel BY------chetan bhagat\n",
      "kai po che! ----adaptation BY------abhishek kapoor\n",
      "kai po che! ----adaptation BY------supratik sen\n",
      "kai po che! ----adaptation BY------chetan bhagat\n",
      "kai po che! ----adaptation BY------pubali chaudhuri\n",
      "chal chala chal ----lyrics BY------anand raj anand\n",
      "chal chala chal ----lyrics BY------sunil jha\n",
      "chal chala chal ----dialogue BY------manisha korde\n",
      "chal chala chal ----lyrics BY------vaibhav modi\n",
      "my friend ganesha 2 ----story BY------rajiv s. ruia\n",
      "my friend ganesha 2 ----s. sachinde BY------s. sachinder\n",
      "badhaai ho badhaai ----kavita choudhar BY------kavita choudhary\n",
      "ishq hai tumse ----dialogue BY------raman bharadwaj\n",
      "ishq hai tumse ----screenplay BY------g. krishna\n",
      "ishq hai tumse ----concept BY------sana yadi reddy\n",
      "chhodo kal ki baatein ----dialogue BY------pramod joshi\n",
      "chhodo kal ki baatein ----screenplay BY------pramod joshi\n",
      "chhodo kal ki baatein ----dialogue BY------raz kazi\n",
      "chhodo kal ki baatein ----screenplay BY------raz kazi\n",
      "kyun! ho gaya na... ----dialogues BY------tushar hiranandani\n",
      "kyun! ho gaya na... ----screenplay BY------tushar hiranandani\n",
      "kyun! ho gaya na... ----samir karnik BY------samir karnik\n",
      "kyun! ho gaya na... ----dialogues BY------vivek oberoi\n",
      "kyun! ho gaya na... ----screenplay BY------vivek oberoi\n",
      "kyun! ho gaya na... ----dialogues BY------rajesh soni\n",
      "kyun! ho gaya na... ----screenplay BY------rajesh soni\n",
      "kyun! ho gaya na... ----dialogues BY------milap zaveri\n",
      "kyun! ho gaya na... ----screenplay BY------milap zaveri\n",
      "bin bulaye baraati ----screenplay BY------praful parekh\n",
      "bin bulaye baraati ----story BY------praful parekh\n",
      "bin bulaye baraati ----screenplay BY------salim sheikh\n",
      "bin bulaye baraati ----story BY------salim sheikh\n",
      "bin bulaye baraati ----dialogue BY------dilip shukla\n",
      "zubeidaa ----original story and screenplay BY------khalid mohamed\n",
      "zubeidaa ----dialogue BY------javed siddiqui\n",
      "love u crazy girl ----bhabhani prasa BY------bhabhani prasad\n",
      "family: ties of blood ----screenwriter BY------rajat arora\n",
      "family: ties of blood ----dialogue BY------tigmanshu dhulia\n",
      "family: ties of blood ----screenplay BY------shridhar raghavan\n",
      "family: ties of blood ----script & story BY------ashok rawat\n",
      "family: ties of blood ----dialogue BY------rajkumar santoshi\n",
      "family: ties of blood ----screenplay BY------rajkumar santoshi\n",
      "family: ties of blood ----story BY------shaktimaan talwar\n",
      "mere brother ki dulhan ----ali abbas zafa BY------ali abbas zafar\n",
      "agyaat: the unknown ----puneet gandhi BY------puneet gandhi\n",
      "agyaat: the unknown ----nilesh girkar BY------nilesh girkar\n",
      "agyaat: the unknown ----lyrics BY------sarim momin\n",
      "agyaat: the unknown ----lyrics BY------prashant pandey\n",
      "agyaat: the unknown ----lyrics BY------sandip singh\n",
      "sadiyaan: boundaries divide... love unites ----re-written by BY------abhay kanwar\n",
      "sadiyaan: boundaries divide... love unites ----screenplay BY------raj kanwar\n",
      "sadiyaan: boundaries divide... love unites ----story BY------raj kanwar\n",
      "sadiyaan: boundaries divide... love unites ----lyrics BY------sameer\n",
      "sadiyaan: boundaries divide... love unites ----dialogues BY------javed siddiqui\n",
      "kaante ----sanjay gupta BY------sanjay gupta\n",
      "kaante ----vinay BY------vinay\n",
      "kaante ----yash BY------yash\n",
      "kaante ----dialogue BY------milap zaveri\n",
      "himmatwala ----original story BY------k. raghavendra rao\n",
      "himmatwala ----story BY------sajid khan\n",
      "himmatwala ----screenplay BY------sajid khan\n",
      "himmatwala ----screenplay BY------farhad\n",
      "himmatwala ----screenplay BY------sajid\n",
      "kal: yesterday and tomorrow ----ruchi narai BY------ruchi narain\n",
      "kabhi alvida naa kehna ----story BY------karan johar\n",
      "kabhi alvida naa kehna ----screenplay BY------shibani bathija\n",
      "kabhi alvida naa kehna ----screenplay BY------karan johar\n",
      "kabhi alvida naa kehna ----dialogue BY------niranjan iyengar\n",
      "rudraksh ----screenplay BY------mani shankar\n",
      "rudraksh ----story BY------mani shankar\n",
      "gangoobai ----priya krishnaswamy BY------priya krishnaswamy\n",
      "gangoobai ----additional screenplay writer BY------rayomand j. patell\n",
      "gangoobai ----dialogue BY------abhay tiwari\n",
      "aakhri inteqam ----rajesh baksh BY------rajesh bakshi\n",
      "hattrick ----story BY------rajat arora\n",
      "sons of ram ----story BY------kushal ruia\n",
      "sons of ram ----contributing writer BY------vivek kumar\n",
      "sons of ram ----comic book BY------anant pai\n",
      "sons of ram ----additional dialogue BY------divya chandel\n",
      "sons of ram ----additional dialogue BY------arnab kanti mishra\n",
      "ra.one ----david benullo BY------david benullo\n",
      "ra.one ----dialogue BY------kanika dhillon\n",
      "ra.one ----screenplay BY------kanika dhillon\n",
      "ra.one ----dialogue BY------niranjan iyengar\n",
      "ra.one ----screenplay BY------shah rukh khan\n",
      "ra.one ----screenplay BY------mushtaq sheikh\n",
      "ra.one ----story BY------anubhav sinha\n",
      "victory ----dialogue script BY------darab farooqui\n",
      "victory ----screenplay BY------kannan iyer\n",
      "victory ----additional dialogue BY------anupam maanav\n",
      "victory ----story BY------ajit pal mangat\n",
      "parwana ----screenplay BY------rajeev kaul\n",
      "parwana ----story BY------rajeev kaul\n",
      "parwana ----dialogue BY------tanveer khan\n",
      "parwana ----screenplay BY------praful parekh\n",
      "parwana ----story BY------praful parekh\n",
      "gumnam qatil ----harinam sing BY------harinam singh\n",
      "jodi breakers ----ashwini chaudhary BY------ashwini chaudhary\n",
      "jodi breakers ----sanyukta shaikh chawl BY------sanyukta shaikh chawla\n",
      "kahaani ----screenplay BY------sujoy ghosh\n",
      "kahaani ----story BY------sujoy ghosh\n",
      "kahaani ----story BY------advaita kala\n",
      "kahaani ----additional screenplay BY------suresh nair\n",
      "kahaani ----dialogue BY------ritesh shah\n",
      "kahaani ----additional screenplay BY------nikhil vyas\n",
      "angaar: the fire ----screenplay BY------sujoy ghosh\n",
      "angaar: the fire ----story BY------sujoy ghosh\n",
      "angaar: the fire ----story BY------advaita kala\n",
      "angaar: the fire ----additional screenplay BY------suresh nair\n",
      "angaar: the fire ----dialogue BY------ritesh shah\n",
      "angaar: the fire ----additional screenplay BY------nikhil vyas\n",
      "blackmail ----story BY------robin bhatt\n",
      "blackmail ----dialogue BY------javed siddiqui\n",
      "taj mahal: a monument of love ----story BY------robin bhatt\n",
      "taj mahal: a monument of love ----dialogue BY------javed siddiqui\n",
      "prince ----story BY------shiraz ahmed\n",
      "prince ----dialogue BY------mayur puri\n",
      "prince ----lyrics BY------sameer\n",
      "big brother ----guddu dhano BY------guddu dhanoa\n",
      "madras cafe ----story BY------shubhendu bhattacharya\n",
      "madras cafe ----dialogue BY------juhi chaturvedi\n",
      "madras cafe ----story BY------somnath dey\n",
      "madras cafe ----additional screenplay BY------dusan tolmac\n",
      "madras cafe ----script consultant BY------dusan tolmac\n",
      "gayab ----story BY------shubhendu bhattacharya\n",
      "gayab ----dialogue BY------juhi chaturvedi\n",
      "gayab ----story BY------somnath dey\n",
      "gayab ----additional screenplay BY------dusan tolmac\n",
      "gayab ----script consultant BY------dusan tolmac\n",
      "gollu aur pappu ----story BY------shubhendu bhattacharya\n",
      "gollu aur pappu ----dialogue BY------juhi chaturvedi\n",
      "gollu aur pappu ----story BY------somnath dey\n",
      "gollu aur pappu ----additional screenplay BY------dusan tolmac\n",
      "gollu aur pappu ----script consultant BY------dusan tolmac\n",
      "aarakshan ----prakash jha BY------prakash jha\n",
      "aarakshan ----anjum rajabal BY------anjum rajabali\n",
      "yeh hai pyar ka mausam ----m.l. bhaska BY------m.l. bhaskar\n",
      "striker ----story BY------sunita rajwar\n",
      "striker ----story BY------iqbal merchant\n",
      "striker ----screenplay BY------chandan arora\n",
      "striker ----screenplay BY------sunita rajwar\n",
      "striker ----dialogues BY------sagar kapoor\n",
      "striker ----dialogues BY------vijay maurya\n",
      "striker ----dialogues BY------pankaj saraswat\n",
      "striker ----lyrics BY------nitin raikwar\n",
      "striker ----lyrics BY------jeetendra joshi\n",
      "striker ----lyrics BY------prashant ingole\n",
      "do knot disturb ----screenplay BY------yunus sajawal\n",
      "risk ----screenplay BY------yunus sajawal\n",
      "albela ----screenplay BY------honey irani\n",
      "albela ----story BY------honey irani\n",
      "albela ----dialogue BY------javed siddiqui\n",
      "ajab prem ki ghazab kahani ----story BY------k. rajeshwar\n",
      "ajab prem ki ghazab kahani ----screenplay BY------rajkumar santoshi\n",
      "ajab prem ki ghazab kahani ----dialogues BY------r.d. tailang\n",
      "ajab prem ki ghazab kahani ----screenplay BY------r.d. tailang\n",
      "maseeha ----screenplay BY------pradeep ghatak\n",
      "maseeha ----story BY------pradeep ghatak\n",
      "maseeha ----dialogue BY------anwar khan\n",
      "maseeha ----screenplay BY------anwar khan\n",
      "rocky ----dialogue BY------janak\n",
      "rocky ----screenplay BY------suresh krishna\n",
      "rocky ----dialogue BY------hriday lani\n",
      "rocky ----lyrics BY------sameer\n",
      "kagaar: life on the edge ----sujit se BY------sujit sen\n",
      "kalyug ----dialogue BY------jay dixit\n",
      "kalyug ----screenplay BY------anand sivakumaran\n",
      "kalyug ----story BY------mohit suri\n"
     ]
    }
   ],
   "source": [
    "movie_writer_actor = []\n",
    "for index in df.index:\n",
    "    title = df[\"title\"][index].lower()\n",
    "    all_writers = df[\"writers\"][index]\n",
    "    if isinstance(all_writers,str):\n",
    "        writers = all_writers.split(\"|\")\n",
    "    for s in writers:\n",
    "        if isinstance(s,str):\n",
    "            role = s[s.find(\"(\")+1:s.find(\")\")].lower().strip()\n",
    "            name = s.replace(role,\"\").replace(\"(\",\"\").replace(\")\",\"\").lower().strip()\n",
    "            print(\"%s ----%s BY------%s\"%(title,role,name))\n",
    "            movie_writer_actor.append([title,name,role])\n",
    "    all_actors = df[\"actors\"][index]\n",
    "    if isinstance(all_actors,str):\n",
    "        actors = all_actors.split(\"|\")\n",
    "    for a in actors:\n",
    "        movie_writer_actor.append([title,a,\"actor\"])"
   ]
  },
  {
   "attachments": {},
   "cell_type": "markdown",
   "metadata": {},
   "source": [
    "Recreate Graph with new nodes"
   ]
  },
  {
   "cell_type": "code",
   "execution_count": 81,
   "metadata": {},
   "outputs": [],
   "source": [
    "movie_graph = Network()\n",
    "for item in movie_writer_actor:\n",
    "    t = item[0]\n",
    "    a = item[1]\n",
    "    r = item[2]\n",
    "    movie_graph.add_node(t,color=\"red\",label=t,group=\"title\") # add title\n",
    "    if r == \"actor\":\n",
    "        movie_graph.add_node(a,color=\"green\",label=a,group=\"actor\")\n",
    "        label = \"actor\"\n",
    "    else:\n",
    "        movie_graph.add_node(a,color=\"blue\",label=a,group=\"writer\")\n",
    "        label = r\n",
    "    movie_graph.add_edge(t,a,label=label)\n",
    "    # nx.set_node_attributes(movie_graph,attrs)"
   ]
  },
  {
   "attachments": {},
   "cell_type": "markdown",
   "metadata": {},
   "source": [
    "Show the graph now"
   ]
  },
  {
   "cell_type": "code",
   "execution_count": 82,
   "metadata": {},
   "outputs": [
    {
     "name": "stdout",
     "output_type": "stream",
     "text": [
      "data/movie_3node_graph.html\n"
     ]
    }
   ],
   "source": [
    "movie_graph.show(\"data/movie_3node_graph.html\",notebook=False )"
   ]
  },
  {
   "cell_type": "code",
   "execution_count": 59,
   "metadata": {},
   "outputs": [
    {
     "name": "stdout",
     "output_type": "stream",
     "text": [
      "Number of nodes :  910\n",
      "Number of nodes :  963\n"
     ]
    }
   ],
   "source": [
    "nx_graph = nx.Graph()\n",
    "edges = movie_graph.get_edges()\n",
    "for e in edges:\n",
    "    n1 = e[\"from\"]\n",
    "    n1_info = movie_graph.get_node(n1)\n",
    "    n1_group = n1_info[\"group\"]\n",
    "    n2 = e[\"to\"]\n",
    "    n2_info = movie_graph.get_node(n2)\n",
    "    n2_group = n2_info[\"group\"]\n",
    "    n1_name = \"%s_%s\"%(n1,n1_group)\n",
    "    n2_name = \"%s_%s\"%(n2,n2_group)\n",
    "    # print(n1_name,n2_name)\n",
    "    nx_graph.add_edge(n1_name,n2_name)\n",
    "print(\"Number of nodes : \",nx_graph.number_of_nodes())\n",
    "print(\"Number of nodes : \",nx_graph.number_of_edges())"
   ]
  },
  {
   "cell_type": "code",
   "execution_count": 61,
   "metadata": {},
   "outputs": [],
   "source": [
    "import community as community_louvain"
   ]
  },
  {
   "cell_type": "code",
   "execution_count": 63,
   "metadata": {},
   "outputs": [],
   "source": [
    "partition = community_louvain.best_partition(nx_graph)"
   ]
  },
  {
   "cell_type": "code",
   "execution_count": 66,
   "metadata": {},
   "outputs": [],
   "source": [
    "communities = {}\n",
    "for k,v in partition.items():\n",
    "    if v not in communities.keys():\n",
    "        communities[v] = [k]\n",
    "    else:\n",
    "        communities[v].append(k)"
   ]
  },
  {
   "attachments": {},
   "cell_type": "markdown",
   "metadata": {},
   "source": [
    "Randomly pick a community to check"
   ]
  },
  {
   "cell_type": "code",
   "execution_count": 71,
   "metadata": {},
   "outputs": [
    {
     "name": "stdout",
     "output_type": "stream",
     "text": [
      "cheeni kum_title\n",
      "manorama six feet under_title\n",
      "anubhav: an actor's tale_title\n",
      "allah ke banday_title\n",
      "daman: a victim of marital violence_title\n",
      "agyaat: the unknown_title\n",
      "department_title\n"
     ]
    }
   ],
   "source": [
    "community_id = 1\n",
    "members = communities[community_id]\n",
    "for m in members:\n",
    "    if \"title\" in m:\n",
    "        print(m)"
   ]
  }
 ],
 "metadata": {
  "kernelspec": {
   "display_name": "conda_psm_0",
   "language": "python",
   "name": "python3"
  },
  "language_info": {
   "codemirror_mode": {
    "name": "ipython",
    "version": 3
   },
   "file_extension": ".py",
   "mimetype": "text/x-python",
   "name": "python",
   "nbconvert_exporter": "python",
   "pygments_lexer": "ipython3",
   "version": "3.11.3"
  },
  "orig_nbformat": 4
 },
 "nbformat": 4,
 "nbformat_minor": 2
}
